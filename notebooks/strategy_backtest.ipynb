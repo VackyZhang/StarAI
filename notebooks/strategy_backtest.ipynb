{
 "cells": [
  {
   "cell_type": "code",
   "execution_count": 1,
   "metadata": {},
   "outputs": [
    {
     "name": "stdout",
     "output_type": "stream",
     "text": [
      "YF.download() has changed argument auto_adjust default to True\n"
     ]
    },
    {
     "name": "stderr",
     "output_type": "stream",
     "text": [
      "[*********************100%***********************]  1 of 1 completed\n",
      "\n",
      "1 Failed download:\n",
      "['AAPL']: YFRateLimitError('Too Many Requests. Rate limited. Try after a while.')\n"
     ]
    },
    {
     "ename": "ValueError",
     "evalue": "Operands are not aligned. Do `left, right = left.align(right, axis=1, copy=False)` before operating.",
     "output_type": "error",
     "traceback": [
      "\u001b[31m---------------------------------------------------------------------------\u001b[39m",
      "\u001b[31mValueError\u001b[39m                                Traceback (most recent call last)",
      "\u001b[32m/var/folders/v7/ypjk24j11xj1s1l43rz7svlc0000gn/T/ipykernel_17953/1298289402.py\u001b[39m in \u001b[36m?\u001b[39m\u001b[34m()\u001b[39m\n\u001b[32m      7\u001b[39m \u001b[38;5;66;03m# 获取数据\u001b[39;00m\n\u001b[32m      8\u001b[39m df = load_stock_data(\u001b[33m\"AAPL\"\u001b[39m, \u001b[33m\"2023-01-01\"\u001b[39m, \u001b[33m\"2024-01-01\"\u001b[39m)\n\u001b[32m      9\u001b[39m \n\u001b[32m     10\u001b[39m \u001b[38;5;66;03m# 运行策略\u001b[39;00m\n\u001b[32m---> \u001b[39m\u001b[32m11\u001b[39m df = mean_reversion_strategy(df, window=\u001b[32m20\u001b[39m)\n\u001b[32m     12\u001b[39m \n\u001b[32m     13\u001b[39m \u001b[38;5;66;03m# 运行回测\u001b[39;00m\n\u001b[32m     14\u001b[39m final_return = backtest(df)\n",
      "\u001b[32m~/VackyAI/StarAI/quant_ai/strategies.py\u001b[39m in \u001b[36m?\u001b[39m\u001b[34m(df, window)\u001b[39m\n\u001b[32m      6\u001b[39m \u001b[38;5;28;01mdef\u001b[39;00m mean_reversion_strategy(df: pd.DataFrame, window: int):\n\u001b[32m      7\u001b[39m     \u001b[33m\"\"\"均值回归策略：价格低于均线买入，高于均线卖出\"\"\"\u001b[39m\n\u001b[32m      8\u001b[39m     df[\u001b[33m\"SMA\"\u001b[39m] = df[\u001b[33m\"Close\"\u001b[39m].rolling(window=window).mean()\n\u001b[32m      9\u001b[39m     df[\u001b[33m\"Signal\"\u001b[39m] = \u001b[32m0\u001b[39m\n\u001b[32m---> \u001b[39m\u001b[32m10\u001b[39m     df.loc[df[\u001b[33m\"Close\"\u001b[39m] < df[\u001b[33m\"SMA\"\u001b[39m], \u001b[33m\"Signal\"\u001b[39m] = \u001b[32m1\u001b[39m\n\u001b[32m     11\u001b[39m     df.loc[df[\u001b[33m\"Close\"\u001b[39m] > df[\u001b[33m\"SMA\"\u001b[39m], \u001b[33m\"Signal\"\u001b[39m] = -\u001b[32m1\u001b[39m\n\u001b[32m     12\u001b[39m     \u001b[38;5;28;01mreturn\u001b[39;00m df\n",
      "\u001b[32m~/VackyAI/StarAI/.venv/lib/python3.12/site-packages/pandas/core/ops/common.py\u001b[39m in \u001b[36m?\u001b[39m\u001b[34m(self, other)\u001b[39m\n\u001b[32m     72\u001b[39m                     \u001b[38;5;28;01mreturn\u001b[39;00m NotImplemented\n\u001b[32m     73\u001b[39m \n\u001b[32m     74\u001b[39m         other = item_from_zerodim(other)\n\u001b[32m     75\u001b[39m \n\u001b[32m---> \u001b[39m\u001b[32m76\u001b[39m         \u001b[38;5;28;01mreturn\u001b[39;00m method(self, other)\n",
      "\u001b[32m~/VackyAI/StarAI/.venv/lib/python3.12/site-packages/pandas/core/arraylike.py\u001b[39m in \u001b[36m?\u001b[39m\u001b[34m(self, other)\u001b[39m\n\u001b[32m     46\u001b[39m     @unpack_zerodim_and_defer(\u001b[33m\"__lt__\"\u001b[39m)\n\u001b[32m     47\u001b[39m     \u001b[38;5;28;01mdef\u001b[39;00m __lt__(self, other):\n\u001b[32m---> \u001b[39m\u001b[32m48\u001b[39m         \u001b[38;5;28;01mreturn\u001b[39;00m self._cmp_method(other, operator.lt)\n",
      "\u001b[32m~/VackyAI/StarAI/.venv/lib/python3.12/site-packages/pandas/core/frame.py\u001b[39m in \u001b[36m?\u001b[39m\u001b[34m(self, other, op)\u001b[39m\n\u001b[32m   7894\u001b[39m     \u001b[38;5;28;01mdef\u001b[39;00m _cmp_method(self, other, op):\n\u001b[32m   7895\u001b[39m         axis: Literal[\u001b[32m1\u001b[39m] = \u001b[32m1\u001b[39m  \u001b[38;5;66;03m# only relevant for Series other case\u001b[39;00m\n\u001b[32m   7896\u001b[39m \n\u001b[32m-> \u001b[39m\u001b[32m7897\u001b[39m         self, other = self._align_for_op(other, axis, flex=\u001b[38;5;28;01mFalse\u001b[39;00m, level=\u001b[38;5;28;01mNone\u001b[39;00m)\n\u001b[32m   7898\u001b[39m \n\u001b[32m   7899\u001b[39m         \u001b[38;5;66;03m# See GH#4537 for discussion of scalar op behavior\u001b[39;00m\n\u001b[32m   7900\u001b[39m         new_data = self._dispatch_frame_op(other, op, axis=axis)\n",
      "\u001b[32m~/VackyAI/StarAI/.venv/lib/python3.12/site-packages/pandas/core/frame.py\u001b[39m in \u001b[36m?\u001b[39m\u001b[34m(self, other, axis, flex, level)\u001b[39m\n\u001b[32m   8201\u001b[39m             \u001b[38;5;66;03m# axis=1 is default for DataFrame-with-Series op\u001b[39;00m\n\u001b[32m   8202\u001b[39m             axis = axis \u001b[38;5;28;01mif\u001b[39;00m axis \u001b[38;5;28;01mis\u001b[39;00m \u001b[38;5;28;01mnot\u001b[39;00m \u001b[38;5;28;01mNone\u001b[39;00m \u001b[38;5;28;01melse\u001b[39;00m \u001b[32m1\u001b[39m\n\u001b[32m   8203\u001b[39m             \u001b[38;5;28;01mif\u001b[39;00m \u001b[38;5;28;01mnot\u001b[39;00m flex:\n\u001b[32m   8204\u001b[39m                 \u001b[38;5;28;01mif\u001b[39;00m \u001b[38;5;28;01mnot\u001b[39;00m left.axes[axis].equals(right.index):\n\u001b[32m-> \u001b[39m\u001b[32m8205\u001b[39m                     raise ValueError(\n\u001b[32m   8206\u001b[39m                         \u001b[33m\"Operands are not aligned. Do \"\u001b[39m\n\u001b[32m   8207\u001b[39m                         \u001b[33m\"`left, right = left.align(right, axis=1, copy=False)` \"\u001b[39m\n\u001b[32m   8208\u001b[39m                         \u001b[33m\"before operating.\"\u001b[39m\n",
      "\u001b[31mValueError\u001b[39m: Operands are not aligned. Do `left, right = left.align(right, axis=1, copy=False)` before operating."
     ]
    }
   ],
   "source": [
    "import pandas as pd\n",
    "import matplotlib.pyplot as plt\n",
    "from quant_ai.data_loader import load_stock_data\n",
    "from quant_ai.strategies import mean_reversion_strategy\n",
    "from quant_ai.backtest import backtest\n",
    "\n",
    "# 获取数据\n",
    "df = load_stock_data(\"AAPL\", \"2023-01-01\", \"2024-01-01\")\n",
    "\n",
    "# 运行策略\n",
    "df = mean_reversion_strategy(df, window=20)\n",
    "\n",
    "# 运行回测\n",
    "final_return = backtest(df)\n",
    "print(f\"策略最终收益率: {final_return:.2f}\")\n",
    "\n",
    "# 画出股价和交易信号\n",
    "plt.figure(figsize=(12,6))\n",
    "plt.plot(df[\"Close\"], label=\"Close Price\")\n",
    "plt.plot(df[\"SMA\"], label=\"SMA 20\", linestyle=\"--\")\n",
    "plt.scatter(df.index[df[\"Signal\"] == 1], df[\"Close\"][df[\"Signal\"] == 1], marker=\"^\", color=\"g\", label=\"Buy Signal\")\n",
    "plt.scatter(df.index[df[\"Signal\"] == -1], df[\"Close\"][df[\"Signal\"] == -1], marker=\"v\", color=\"r\", label=\"Sell Signal\")\n",
    "plt.legend()\n",
    "plt.show()\n"
   ]
  }
 ],
 "metadata": {
  "kernelspec": {
   "display_name": ".venv",
   "language": "python",
   "name": "python3"
  },
  "language_info": {
   "codemirror_mode": {
    "name": "ipython",
    "version": 3
   },
   "file_extension": ".py",
   "mimetype": "text/x-python",
   "name": "python",
   "nbconvert_exporter": "python",
   "pygments_lexer": "ipython3",
   "version": "3.12.9"
  }
 },
 "nbformat": 4,
 "nbformat_minor": 2
}
