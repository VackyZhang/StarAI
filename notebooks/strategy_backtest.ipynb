{
 "cells": [
  {
   "cell_type": "code",
   "execution_count": null,
   "metadata": {},
   "outputs": [
    {
     "name": "stdout",
     "output_type": "stream",
     "text": [
      "\u001b[34;20m开始获取股票 AAPL 的数据\u001b[0m\n",
      "\u001b[34;20m时间范围：2025-03-26 到 2025-03-28\u001b[0m\n",
      "\u001b[34;20m第 1 次尝试获取数据...\u001b[0m\n",
      "YF.download() has changed argument auto_adjust default to True\n"
     ]
    },
    {
     "name": "stderr",
     "output_type": "stream",
     "text": [
      "[*********************100%***********************]  1 of 1 completed\n",
      "\n",
      "1 Failed download:\n",
      "['AAPL']: YFRateLimitError('Too Many Requests. Rate limited. Try after a while.')\n"
     ]
    },
    {
     "name": "stdout",
     "output_type": "stream",
     "text": [
      "\u001b[33;20m获取到的数据为空\u001b[0m\n",
      "\u001b[31;20m尝试 1/5 失败: 未能获取到 AAPL 的数据\u001b[0m\n",
      "\u001b[34;20m准备下一次尝试...\u001b[0m\n",
      "\u001b[34;20m第 2 次尝试获取数据...\u001b[0m\n",
      "\u001b[34;20m等待 23.4 秒后重试...\u001b[0m\n"
     ]
    },
    {
     "name": "stderr",
     "output_type": "stream",
     "text": [
      "[*********************100%***********************]  1 of 1 completed\n",
      "\n",
      "1 Failed download:\n",
      "['AAPL']: YFRateLimitError('Too Many Requests. Rate limited. Try after a while.')\n"
     ]
    },
    {
     "name": "stdout",
     "output_type": "stream",
     "text": [
      "\u001b[33;20m获取到的数据为空\u001b[0m\n",
      "\u001b[31;20m尝试 2/5 失败: 未能获取到 AAPL 的数据\u001b[0m\n",
      "\u001b[34;20m准备下一次尝试...\u001b[0m\n",
      "\u001b[34;20m第 3 次尝试获取数据...\u001b[0m\n",
      "\u001b[34;20m等待 30.8 秒后重试...\u001b[0m\n"
     ]
    }
   ],
   "source": [
    "import pandas as pd\n",
    "import matplotlib.pyplot as plt\n",
    "from quant_ai.data_loader import load_stock_data\n",
    "#from quant_ai.strategies import mean_reversion_strategy\n",
    "#from quant_ai.backtest import backtest\n",
    "\n",
    "# 获取数据\n",
    "df = load_stock_data(\"AAPL\", \"2025-03-26\", \"2025-03-28\")\n",
    "\n",
    "# 运行策略\n",
    "#df = mean_reversion_strategy(df, window=20)\n",
    "\n",
    "# 运行回测\n",
    "#final_return = backtest(df)\n",
    "#print(f\"策略最终收益率: {final_return:.2f}\")\n",
    "\n",
    "# 画出股价和交易信号\n",
    "#plt.figure(figsize=(12,6))\n",
    "#plt.plot(df[\"Close\"], label=\"Close Price\")\n",
    "#plt.plot(df[\"SMA\"], label=\"SMA 20\", linestyle=\"--\")\n",
    "#plt.scatter(df.index[df[\"Signal\"] == 1], df[\"Close\"][df[\"Signal\"] == 1], marker=\"^\", color=\"g\", label=\"Buy Signal\")\n",
    "#plt.scatter(df.index[df[\"Signal\"] == -1], df[\"Close\"][df[\"Signal\"] == -1], marker=\"v\", color=\"r\", label=\"Sell Signal\")\n",
    "#plt.legend()\n",
    "#plt.show()\n"
   ]
  }
 ],
 "metadata": {
  "kernelspec": {
   "display_name": ".venv",
   "language": "python",
   "name": "python3"
  },
  "language_info": {
   "codemirror_mode": {
    "name": "ipython",
    "version": 3
   },
   "file_extension": ".py",
   "mimetype": "text/x-python",
   "name": "python",
   "nbconvert_exporter": "python",
   "pygments_lexer": "ipython3",
   "version": "3.12.10"
  }
 },
 "nbformat": 4,
 "nbformat_minor": 2
}
