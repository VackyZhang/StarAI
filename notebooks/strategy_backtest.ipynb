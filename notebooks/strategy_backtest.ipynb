{
 "cells": [
  {
   "cell_type": "code",
   "execution_count": 1,
   "metadata": {},
   "outputs": [
    {
     "name": "stdout",
     "output_type": "stream",
     "text": [
      "\u001b[34;20m开始获取股票 AAPL 的数据\u001b[0m\n",
      "\u001b[34;20m时间范围：2025-03-26 到 2025-03-28\u001b[0m\n",
      "\u001b[34;20m第 1 次尝试获取数据...\u001b[0m\n",
      "YF.download() has changed argument auto_adjust default to True\n"
     ]
    },
    {
     "name": "stderr",
     "output_type": "stream",
     "text": [
      "[*********************100%***********************]  1 of 1 completed"
     ]
    },
    {
     "name": "stdout",
     "output_type": "stream",
     "text": [
      "\u001b[34;20m成功获取数据，数据形状：(2, 5)\u001b[0m\n",
      "\u001b[34;20m数据时间范围：2025-03-26 00:00:00 到 2025-03-27 00:00:00\u001b[0m\n",
      "\u001b[34;20m已计算收益率\u001b[0m\n"
     ]
    },
    {
     "name": "stderr",
     "output_type": "stream",
     "text": [
      "\n"
     ]
    }
   ],
   "source": [
    "import pandas as pd\n",
    "import matplotlib.pyplot as plt\n",
    "from quant_ai.data_loader import load_stock_data\n",
    "#from quant_ai.strategies import mean_reversion_strategy\n",
    "#from quant_ai.backtest import backtest\n",
    "\n",
    "# 获取数据\n",
    "df = load_stock_data(\"AAPL\", \"2025-03-26\", \"2025-03-28\")\n",
    "\n",
    "# 运行策略\n",
    "#df = mean_reversion_strategy(df, window=20)\n",
    "\n",
    "# 运行回测\n",
    "#final_return = backtest(df)\n",
    "#print(f\"策略最终收益率: {final_return:.2f}\")\n",
    "\n",
    "# 画出股价和交易信号\n",
    "#plt.figure(figsize=(12,6))\n",
    "#plt.plot(df[\"Close\"], label=\"Close Price\")\n",
    "#plt.plot(df[\"SMA\"], label=\"SMA 20\", linestyle=\"--\")\n",
    "#plt.scatter(df.index[df[\"Signal\"] == 1], df[\"Close\"][df[\"Signal\"] == 1], marker=\"^\", color=\"g\", label=\"Buy Signal\")\n",
    "#plt.scatter(df.index[df[\"Signal\"] == -1], df[\"Close\"][df[\"Signal\"] == -1], marker=\"v\", color=\"r\", label=\"Sell Signal\")\n",
    "#plt.legend()\n",
    "#plt.show()\n"
   ]
  }
 ],
 "metadata": {
  "kernelspec": {
   "display_name": ".venv",
   "language": "python",
   "name": "python3"
  },
  "language_info": {
   "codemirror_mode": {
    "name": "ipython",
    "version": 3
   },
   "file_extension": ".py",
   "mimetype": "text/x-python",
   "name": "python",
   "nbconvert_exporter": "python",
   "pygments_lexer": "ipython3",
   "version": "3.12.9"
  }
 },
 "nbformat": 4,
 "nbformat_minor": 2
}
