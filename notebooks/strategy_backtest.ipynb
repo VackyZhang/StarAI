{
 "cells": [
  {
   "cell_type": "code",
   "execution_count": 2,
   "metadata": {},
   "outputs": [
    {
     "ename": "ModuleNotFoundError",
     "evalue": "No module named 'quant_ai.utils.logger'; 'quant_ai.utils' is not a package",
     "output_type": "error",
     "traceback": [
      "\u001b[31m---------------------------------------------------------------------------\u001b[39m",
      "\u001b[31mModuleNotFoundError\u001b[39m                       Traceback (most recent call last)",
      "\u001b[36mCell\u001b[39m\u001b[36m \u001b[39m\u001b[32mIn[2]\u001b[39m\u001b[32m, line 3\u001b[39m\n\u001b[32m      1\u001b[39m \u001b[38;5;28;01mimport\u001b[39;00m\u001b[38;5;250m \u001b[39m\u001b[34;01mpandas\u001b[39;00m\u001b[38;5;250m \u001b[39m\u001b[38;5;28;01mas\u001b[39;00m\u001b[38;5;250m \u001b[39m\u001b[34;01mpd\u001b[39;00m\n\u001b[32m      2\u001b[39m \u001b[38;5;28;01mimport\u001b[39;00m\u001b[38;5;250m \u001b[39m\u001b[34;01mmatplotlib\u001b[39;00m\u001b[34;01m.\u001b[39;00m\u001b[34;01mpyplot\u001b[39;00m\u001b[38;5;250m \u001b[39m\u001b[38;5;28;01mas\u001b[39;00m\u001b[38;5;250m \u001b[39m\u001b[34;01mplt\u001b[39;00m\n\u001b[32m----> \u001b[39m\u001b[32m3\u001b[39m \u001b[38;5;28;01mfrom\u001b[39;00m\u001b[38;5;250m \u001b[39m\u001b[34;01mquant_ai\u001b[39;00m\u001b[34;01m.\u001b[39;00m\u001b[34;01mdata_loader\u001b[39;00m\u001b[38;5;250m \u001b[39m\u001b[38;5;28;01mimport\u001b[39;00m load_stock_data\n\u001b[32m      4\u001b[39m \u001b[38;5;66;03m#from quant_ai.strategies import mean_reversion_strategy\u001b[39;00m\n\u001b[32m      5\u001b[39m \u001b[38;5;66;03m#from quant_ai.backtest import backtest\u001b[39;00m\n\u001b[32m      6\u001b[39m \n\u001b[32m      7\u001b[39m \u001b[38;5;66;03m# 获取数据\u001b[39;00m\n\u001b[32m      8\u001b[39m df = load_stock_data(\u001b[33m\"\u001b[39m\u001b[33mAAPL\u001b[39m\u001b[33m\"\u001b[39m, \u001b[33m\"\u001b[39m\u001b[33m2025-03-26\u001b[39m\u001b[33m\"\u001b[39m, \u001b[33m\"\u001b[39m\u001b[33m2025-03-28\u001b[39m\u001b[33m\"\u001b[39m)\n",
      "\u001b[36mFile \u001b[39m\u001b[32m~/VackyAI/StarAI/quant_ai/data_loader.py:9\u001b[39m\n\u001b[32m      7\u001b[39m \u001b[38;5;28;01mimport\u001b[39;00m\u001b[38;5;250m \u001b[39m\u001b[34;01mrandom\u001b[39;00m\n\u001b[32m      8\u001b[39m \u001b[38;5;28;01mfrom\u001b[39;00m\u001b[38;5;250m \u001b[39m\u001b[34;01mtyping\u001b[39;00m\u001b[38;5;250m \u001b[39m\u001b[38;5;28;01mimport\u001b[39;00m Optional\n\u001b[32m----> \u001b[39m\u001b[32m9\u001b[39m \u001b[38;5;28;01mfrom\u001b[39;00m\u001b[38;5;250m \u001b[39m\u001b[34;01m.\u001b[39;00m\u001b[34;01mutils\u001b[39;00m\u001b[34;01m.\u001b[39;00m\u001b[34;01mlogger\u001b[39;00m\u001b[38;5;250m \u001b[39m\u001b[38;5;28;01mimport\u001b[39;00m setup_logger\n\u001b[32m     11\u001b[39m \u001b[38;5;66;03m# 配置日志\u001b[39;00m\n\u001b[32m     12\u001b[39m logger = setup_logger(\u001b[34m__name__\u001b[39m)\n",
      "\u001b[31mModuleNotFoundError\u001b[39m: No module named 'quant_ai.utils.logger'; 'quant_ai.utils' is not a package"
     ]
    }
   ],
   "source": [
    "import pandas as pd\n",
    "import matplotlib.pyplot as plt\n",
    "from quant_ai.data_loader import load_stock_data\n",
    "#from quant_ai.strategies import mean_reversion_strategy\n",
    "#from quant_ai.backtest import backtest\n",
    "\n",
    "# 获取数据\n",
    "df = load_stock_data(\"AAPL\", \"2025-03-26\", \"2025-03-28\")\n",
    "\n",
    "# 运行策略\n",
    "#df = mean_reversion_strategy(df, window=20)\n",
    "\n",
    "# 运行回测\n",
    "#final_return = backtest(df)\n",
    "#print(f\"策略最终收益率: {final_return:.2f}\")\n",
    "\n",
    "# 画出股价和交易信号\n",
    "#plt.figure(figsize=(12,6))\n",
    "#plt.plot(df[\"Close\"], label=\"Close Price\")\n",
    "#plt.plot(df[\"SMA\"], label=\"SMA 20\", linestyle=\"--\")\n",
    "#plt.scatter(df.index[df[\"Signal\"] == 1], df[\"Close\"][df[\"Signal\"] == 1], marker=\"^\", color=\"g\", label=\"Buy Signal\")\n",
    "#plt.scatter(df.index[df[\"Signal\"] == -1], df[\"Close\"][df[\"Signal\"] == -1], marker=\"v\", color=\"r\", label=\"Sell Signal\")\n",
    "#plt.legend()\n",
    "#plt.show()\n"
   ]
  }
 ],
 "metadata": {
  "kernelspec": {
   "display_name": ".venv",
   "language": "python",
   "name": "python3"
  },
  "language_info": {
   "codemirror_mode": {
    "name": "ipython",
    "version": 3
   },
   "file_extension": ".py",
   "mimetype": "text/x-python",
   "name": "python",
   "nbconvert_exporter": "python",
   "pygments_lexer": "ipython3",
   "version": "3.12.9"
  }
 },
 "nbformat": 4,
 "nbformat_minor": 2
}
